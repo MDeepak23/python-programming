{
  "nbformat": 4,
  "nbformat_minor": 0,
  "metadata": {
    "colab": {
      "provenance": [],
      "authorship_tag": "ABX9TyO2DaIOirEzLkegQ/8V2iyC"
    },
    "kernelspec": {
      "name": "python3",
      "display_name": "Python 3"
    },
    "language_info": {
      "name": "python"
    }
  },
  "cells": [
    {
      "cell_type": "code",
      "source": [
        "import pandas as pd\n",
        "import numpy as np"
      ],
      "metadata": {
        "id": "dVtU9DtiAHgv"
      },
      "execution_count": 1,
      "outputs": []
    },
    {
      "cell_type": "markdown",
      "source": [
        "1. Create a Pandas DataFrame from the following dictionary:\n",
        "data = {\n",
        "'Name': ['Alice', 'Bob', 'Carol'],\n",
        "'Age': [24, 27, 22],\n",
        "'Salary': [50000, 55000, 48000]\n",
        "}\n",
        "• Add a new column called Bonus which is 10% of the salary."
      ],
      "metadata": {
        "id": "wXhyf5KYBR95"
      }
    },
    {
      "cell_type": "code",
      "source": [
        " data = pd.DataFrame({ 'Name': ['Alice', 'Bob', 'Carol'], 'Age': [24, 27, 22], 'Salary': [50000, 55000, 48000] })\n",
        " data['Bonus']=data['Salary']*0.1\n",
        " print(data)"
      ],
      "metadata": {
        "colab": {
          "base_uri": "https://localhost:8080/"
        },
        "id": "jOH95oBKBTB7",
        "outputId": "ad73a0e1-35fe-493a-ff33-6b83547d15e1"
      },
      "execution_count": null,
      "outputs": [
        {
          "output_type": "stream",
          "name": "stdout",
          "text": [
            "    Name  Age  Salary   Bonus\n",
            "0  Alice   24   50000  5000.0\n",
            "1    Bob   27   55000  5500.0\n",
            "2  Carol   22   48000  4800.0\n"
          ]
        }
      ]
    },
    {
      "cell_type": "markdown",
      "source": [
        "2. Given the DataFrame created in the above question:\n",
        "• Display the first two rows.\n",
        "• Compute the mean salary."
      ],
      "metadata": {
        "id": "DhBYiUP1C4H1"
      }
    },
    {
      "cell_type": "code",
      "source": [
        "a = data.head(2)\n",
        "print(\"first two rows \\n\",a)\n",
        "b = data['Salary'].mean()\n",
        "print(\"mean salary \\n\",b)"
      ],
      "metadata": {
        "colab": {
          "base_uri": "https://localhost:8080/"
        },
        "id": "BO4CbAszC6UW",
        "outputId": "ae720fdb-70a7-4b7a-d00c-7177e561da9e"
      },
      "execution_count": null,
      "outputs": [
        {
          "output_type": "stream",
          "name": "stdout",
          "text": [
            "first two rows \n",
            "     Name  Age  Salary   Bonus\n",
            "0  Alice   24   50000  5000.0\n",
            "1    Bob   27   55000  5500.0\n",
            "mean salary \n",
            " 51000.0\n"
          ]
        }
      ]
    },
    {
      "cell_type": "markdown",
      "source": [
        "##3. Using the same DataFrame:\n",
        "\n",
        "• Extract all rows where the Age is greater than 25.\n",
        "\n",
        "• Filter out rows where the Salary is less than 50000."
      ],
      "metadata": {
        "id": "xsHMkQ-qKoMN"
      }
    },
    {
      "cell_type": "code",
      "source": [
        "age = data[data['Age']>25]\n",
        "print(\"age > 25\\n\",age)\n",
        "salary = data[data['Salary']<50000]\n",
        "print(\"salary < 50000\\n\",salary)"
      ],
      "metadata": {
        "colab": {
          "base_uri": "https://localhost:8080/"
        },
        "id": "Wo5pKCm8KtWp",
        "outputId": "b48bcbbf-70f7-4284-fe44-f4d9c1e15f19"
      },
      "execution_count": null,
      "outputs": [
        {
          "output_type": "stream",
          "name": "stdout",
          "text": [
            "age > 25\n",
            "   Name  Age  Salary   Bonus\n",
            "1  Bob   27   55000  5500.0\n",
            "salary < 50000\n",
            "     Name  Age  Salary   Bonus\n",
            "2  Carol   22   48000  4800.0\n"
          ]
        }
      ]
    },
    {
      "cell_type": "markdown",
      "source": [
        "#4. Create the following DataFrame:\n",
        "\n",
        "data = {\n",
        "\n",
        "'A': [1, 2, None, 4],\n",
        "\n",
        "'B': [None, 2, 3, None],\n",
        "\n",
        "'C': [1, 2, 3, 4]\n",
        "\n",
        "}\n",
        "\n",
        "df = pd.DataFrame(data)\n",
        "\n",
        "• Fill missing values in column A with the mean of the column.\n",
        "\n",
        "• Drop rows where all values are None."
      ],
      "metadata": {
        "id": "fnqZQVIVLx9n"
      }
    },
    {
      "cell_type": "code",
      "source": [
        "data = {\n",
        "\n",
        "'A': [1, 2, None, 4],\n",
        "\n",
        "'B': [None, 2, 3, None],\n",
        "\n",
        "'C': [1, 2, 3, 4]\n",
        "\n",
        "}\n",
        "\n",
        "df = pd.DataFrame(data)\n",
        "print(df['A'].fillna(df['A'].mean()))\n",
        "df.dropna(how='all',inplace=True)\n",
        "print(df)\n"
      ],
      "metadata": {
        "colab": {
          "base_uri": "https://localhost:8080/"
        },
        "id": "IkyvxR1_L3aL",
        "outputId": "703fdd95-a303-40f1-b2c0-710081a7a020"
      },
      "execution_count": 3,
      "outputs": [
        {
          "output_type": "stream",
          "name": "stdout",
          "text": [
            "0    1.000000\n",
            "1    2.000000\n",
            "2    2.333333\n",
            "3    4.000000\n",
            "Name: A, dtype: float64\n",
            "     A    B  C\n",
            "0  1.0  NaN  1\n",
            "1  2.0  2.0  2\n",
            "2  NaN  3.0  3\n",
            "3  4.0  NaN  4\n"
          ]
        }
      ]
    },
    {
      "cell_type": "markdown",
      "source": [
        "#5. Create a DataFrame for employees:\n",
        "data = {\n",
        "'Department': ['HR', 'HR', 'IT', 'IT', 'Finance'],\n",
        "\n",
        "\n",
        "'Employee': ['Alice', 'Bob', 'Carol', 'David', 'Eve'],\n",
        "\n",
        "'Salary': [50000, 45000, 60000, 65000, 70000]\n",
        "\n",
        "}\n",
        "\n",
        "• Group the data by Department and compute the total and mean salary for each\n",
        "department."
      ],
      "metadata": {
        "id": "Hm6LBBSIUc_b"
      }
    },
    {
      "cell_type": "code",
      "source": [
        "data = { 'Department': ['HR', 'HR', 'IT', 'IT', 'Finance'],\n",
        "\n",
        "'Employee': ['Alice', 'Bob', 'Carol', 'David', 'Eve'],\n",
        "\n",
        "'Salary': [50000, 45000, 60000, 65000, 70000]\n",
        "\n",
        "}\n",
        "df = pd.DataFrame(data)\n",
        "df1 = df.groupby('Department')['Salary'].agg(['sum','mean']).reset_index\n",
        "print(df1)"
      ],
      "metadata": {
        "colab": {
          "base_uri": "https://localhost:8080/"
        },
        "id": "0s2xByRlUkg_",
        "outputId": "a7f6f7c4-8553-4a77-b2ce-a2f5afddffbd"
      },
      "execution_count": 4,
      "outputs": [
        {
          "output_type": "stream",
          "name": "stdout",
          "text": [
            "<bound method DataFrame.reset_index of                sum     mean\n",
            "Department                 \n",
            "Finance      70000  70000.0\n",
            "HR           95000  47500.0\n",
            "IT          125000  62500.0>\n"
          ]
        }
      ]
    },
    {
      "cell_type": "markdown",
      "source": [
        "6. Given two DataFrames:\n",
        "\n",
        "df1 = pd.DataFrame({'ID': [1, 2, 3], 'Name': ['Alice', 'Bob', 'Carol']})\n",
        "\n",
        "df2 = pd.DataFrame({'ID': [2, 3, 4], 'Age': [25, 30, 22]})\n",
        "\n",
        "• Perform an inner join on the ID column."
      ],
      "metadata": {
        "id": "d_0010ydV6VW"
      }
    },
    {
      "cell_type": "code",
      "source": [
        "df1 = pd.DataFrame({'ID': [1, 2, 3], 'Name': ['Alice', 'Bob', 'Carol']})\n",
        "df2 = pd.DataFrame({'ID': [2, 3, 4], 'Age': [25, 30, 22]})\n",
        "result = pd.merge(df1,df2,on='ID',how='inner')\n",
        "print(result)"
      ],
      "metadata": {
        "colab": {
          "base_uri": "https://localhost:8080/"
        },
        "id": "lL1nSOdZV92-",
        "outputId": "f13b8d1f-cc9f-451f-ce11-934a6569783b"
      },
      "execution_count": 5,
      "outputs": [
        {
          "output_type": "stream",
          "name": "stdout",
          "text": [
            "   ID   Name  Age\n",
            "0   2    Bob   25\n",
            "1   3  Carol   30\n"
          ]
        }
      ]
    },
    {
      "cell_type": "markdown",
      "source": [
        "7. Given a small dataset, clean and display basic statistics using Pandas."
      ],
      "metadata": {
        "id": "MJYWZ4dYWX1r"
      }
    },
    {
      "cell_type": "code",
      "source": [
        "data = {\n",
        "    'name':['deepak','bharath','gowtham'],\n",
        "    'age':[19,None,18],\n",
        "    'dept':['CSE','IT','AIML']\n",
        "}\n",
        "df = pd.DataFrame(data)\n",
        "df = df.assign(age=df['age'].fillna(df['age'].mean()))\n",
        "print(df)\n",
        "\n",
        "print(df.describe())\n"
      ],
      "metadata": {
        "colab": {
          "base_uri": "https://localhost:8080/"
        },
        "id": "Ul2sqaLyWYxf",
        "outputId": "b34c908d-fa7d-473e-ac69-f7a0bda0ce84"
      },
      "execution_count": 12,
      "outputs": [
        {
          "output_type": "stream",
          "name": "stdout",
          "text": [
            "      name   age  dept\n",
            "0   deepak  19.0   CSE\n",
            "1  bharath  18.5    IT\n",
            "2  gowtham  18.0  AIML\n",
            "         age\n",
            "count   3.00\n",
            "mean   18.50\n",
            "std     0.50\n",
            "min    18.00\n",
            "25%    18.25\n",
            "50%    18.50\n",
            "75%    18.75\n",
            "max    19.00\n"
          ]
        }
      ]
    },
    {
      "cell_type": "markdown",
      "source": [
        "8. small EDA task\n",
        "\n",
        "• Load the Titanic dataset (titanic.csv) into a Pandas DataFrame.\n",
        "\n",
        "• Perform the following tasks:\n",
        "\n",
        "o Display the number of missing values in each column.\n",
        "\n",
        "o Find the average age of passengers.\n",
        "\n",
        "o Create a bar plot to show the survival rate based on gender."
      ],
      "metadata": {
        "id": "x86V4bWQYmFr"
      }
    },
    {
      "cell_type": "code",
      "source": [
        "import matplotlib.pyplot as plt\n",
        "df = pd.read_csv(\"/content/Titanic-Dataset (1).csv\")\n",
        "print(df.isnull().sum())\n",
        "print(\"average age:\",df['Age'].mean())\n",
        "sr = df.groupby('Sex')['Survived'].mean()*100\n",
        "sr.plot(kind='bar',color=['blue','pink'])\n",
        "plt.xlabel('Gender')\n",
        "plt.ylabel('Survival rate')\n",
        "plt.title('survival rate based on gender')\n",
        "plt.show()"
      ],
      "metadata": {
        "colab": {
          "base_uri": "https://localhost:8080/",
          "height": 749
        },
        "id": "0P2s0QV9YqdD",
        "outputId": "3ee5948a-bf62-4c46-e732-4ab59094c4a0"
      },
      "execution_count": 22,
      "outputs": [
        {
          "output_type": "stream",
          "name": "stdout",
          "text": [
            "PassengerId      0\n",
            "Survived         0\n",
            "Pclass           0\n",
            "Name             0\n",
            "Sex              0\n",
            "Age            177\n",
            "SibSp            0\n",
            "Parch            0\n",
            "Ticket           0\n",
            "Fare             0\n",
            "Cabin          687\n",
            "Embarked         2\n",
            "dtype: int64\n",
            "average age: 29.69911764705882\n"
          ]
        },
        {
          "output_type": "display_data",
          "data": {
            "text/plain": [
              "<Figure size 640x480 with 1 Axes>"
            ],
            "image/png": "[encoded data removed]"
          },
          "metadata": {}
        }
      ]
    },
    {
      "cell_type": "markdown",
      "source": [
        "9. Data Transformation\n",
        "\n",
        "• Load a dataset containing daily temperatures and dates. Perform the following:\n",
        "\n",
        "o Convert the date column into a DateTime object.\n",
        "\n",
        "o Create a new column that categorizes temperatures into High, Medium, or\n",
        "Low."
      ],
      "metadata": {
        "id": "9LUm0G1cb4q2"
      }
    },
    {
      "cell_type": "code",
      "source": [
        "data = {\n",
        "    'Date': ['2024-12-01', '2024-12-02', '2024-12-03', '2024-12-04', '2024-12-05'],\n",
        "    'Temperature': [22, 25, 19, 30, 18]\n",
        "}\n",
        "\n",
        "df = pd.DataFrame(data)\n",
        "\n",
        "\n",
        "df['Date'] = pd.to_datetime(df['Date'])\n",
        "\n",
        "def categorize_temperature(temp):\n",
        "    if temp >= 25:\n",
        "        return 'High'\n",
        "    elif temp >= 20:\n",
        "        return 'Medium'\n",
        "    else:\n",
        "        return 'Low'\n",
        "\n",
        "df['Temperature_Category'] = df['Temperature'].apply(categorize_temperature)\n",
        "\n",
        "print(df)"
      ],
      "metadata": {
        "colab": {
          "base_uri": "https://localhost:8080/"
        },
        "id": "Nq1DNB0GccwN",
        "outputId": "17b921c0-35ff-4614-8ca3-40c30bce73bf"
      },
      "execution_count": 23,
      "outputs": [
        {
          "output_type": "stream",
          "name": "stdout",
          "text": [
            "        Date  Temperature Temperature_Category\n",
            "0 2024-12-01           22               Medium\n",
            "1 2024-12-02           25                 High\n",
            "2 2024-12-03           19                  Low\n",
            "3 2024-12-04           30                 High\n",
            "4 2024-12-05           18                  Low\n"
          ]
        }
      ]
    }
  ]
}