{
  "cells": [
    {
      "cell_type": "code",
      "execution_count": null,
      "metadata": {
        "colab": {
          "base_uri": "https://localhost:8080/"
        },
        "id": "j1DyFopO6UXd",
        "outputId": "59336e94-de83-4a59-af79-2b1ce4dd2249"
      },
      "outputs": [
        {
          "name": "stdout",
          "output_type": "stream",
          "text": [
            "Requirement already satisfied: numpy in /usr/local/lib/python3.10/dist-packages (1.26.4)\n"
          ]
        }
      ],
      "source": [
        "pip install numpy"
      ]
    },
    {
      "cell_type": "code",
      "execution_count": 2,
      "metadata": {
        "id": "kfc81EOg6p61"
      },
      "outputs": [],
      "source": [
        "import numpy as np"
      ]
    },
    {
      "cell_type": "markdown",
      "metadata": {
        "id": "EwsrA2Oy674p"
      },
      "source": [
        "1. Perform arithmetic operations on NumPy arrays."
      ]
    },
    {
      "cell_type": "code",
      "execution_count": null,
      "metadata": {
        "colab": {
          "base_uri": "https://localhost:8080/"
        },
        "id": "l398nDIf689d",
        "outputId": "86007263-2015-41c7-e22c-6752231103ee"
      },
      "outputs": [
        {
          "name": "stdout",
          "output_type": "stream",
          "text": [
            "[11 22 33]\n",
            "[ -9 -18 -27]\n",
            "[10 40 90]\n",
            "[0.1 0.1 0.1]\n"
          ]
        }
      ],
      "source": [
        "a = np.array([1,2,3])\n",
        "b = np.array([10,20,30])\n",
        "print(a+b)\n",
        "print(a-b)\n",
        "print(a*b)\n",
        "print(a/b)"
      ]
    },
    {
      "cell_type": "markdown",
      "metadata": {
        "id": "Tcx_6rL97z0r"
      },
      "source": [
        "2. Write a script to compute the mean and standard deviation of a NumPy array."
      ]
    },
    {
      "cell_type": "code",
      "execution_count": null,
      "metadata": {
        "colab": {
          "base_uri": "https://localhost:8080/"
        },
        "id": "RgfMyWWo71J0",
        "outputId": "1245591f-7f28-4932-9652-30727c87cd3e"
      },
      "outputs": [
        {
          "name": "stdout",
          "output_type": "stream",
          "text": [
            "2.0\n",
            "0.816496580927726\n"
          ]
        }
      ],
      "source": [
        "m = np.mean(a)\n",
        "s = np.std(a)\n",
        "print(m)\n",
        "print(s)"
      ]
    },
    {
      "cell_type": "markdown",
      "metadata": {
        "id": "rHmeO5Vt8osK"
      },
      "source": [
        "3. Create a NumPy array of integers from 10 to 50 with a step size of 5."
      ]
    },
    {
      "cell_type": "code",
      "execution_count": null,
      "metadata": {
        "colab": {
          "base_uri": "https://localhost:8080/"
        },
        "id": "BwmN5yhW818z",
        "outputId": "683b72cb-7fc5-4fde-9860-a20abfccb99d"
      },
      "outputs": [
        {
          "name": "stdout",
          "output_type": "stream",
          "text": [
            "[10 15 20 25 30 35 40 45 50]\n"
          ]
        }
      ],
      "source": [
        "s = np.arange(10,51,5)\n",
        "print(s)"
      ]
    },
    {
      "cell_type": "markdown",
      "metadata": {
        "id": "QS7OidVh9yhz"
      },
      "source": [
        "4. Reshape the array into a 2x4 matrix."
      ]
    },
    {
      "cell_type": "code",
      "execution_count": null,
      "metadata": {
        "colab": {
          "base_uri": "https://localhost:8080/"
        },
        "id": "wqn0F12d90YV",
        "outputId": "c16ad836-a54f-4040-cbed-6e628b14bc58"
      },
      "outputs": [
        {
          "name": "stdout",
          "output_type": "stream",
          "text": [
            "[[1 2 3 4]\n",
            " [5 6 7 8]]\n"
          ]
        }
      ],
      "source": [
        "r = np.array([1,2,3,4,5,6,7,8])\n",
        "r = r.reshape(2,4)\n",
        "print(r)"
      ]
    },
    {
      "cell_type": "markdown",
      "metadata": {
        "id": "XOSGciXM-oBR"
      },
      "source": [
        "5. Given the array arr = np.array([[1, 2, 3], [4, 5, 6], [7, 8, 9]]):\n",
        "• Extract the sub-matrix containing the last two rows and first two columns.\n",
        "• Replace all elements greater than 4 with 0."
      ]
    },
    {
      "cell_type": "code",
      "execution_count": null,
      "metadata": {
        "colab": {
          "base_uri": "https://localhost:8080/"
        },
        "id": "s_BL7tSC-pRe",
        "outputId": "9203bb35-6b77-40ed-b033-29c5e7fe1096"
      },
      "outputs": [
        {
          "name": "stdout",
          "output_type": "stream",
          "text": [
            "[[4 5]\n",
            " [7 8]]\n",
            "[[1 2 3]\n",
            " [4 0 0]\n",
            " [0 0 0]]\n"
          ]
        }
      ],
      "source": [
        "arr = np.array([[1, 2, 3], [4, 5, 6], [7, 8, 9]])\n",
        "print(arr[1: ,0:2])\n",
        "arr[arr>4]=0\n",
        "print(arr)"
      ]
    },
    {
      "cell_type": "markdown",
      "metadata": {
        "id": "5d5Kqa3VC1HD"
      },
      "source": [
        "6. Create two 1D arrays:\n",
        "• a = np.array([1, 2, 3])\n",
        "• b = np.array([4, 5, 6])\n",
        "• Perform element-wise addition, multiplication, and division."
      ]
    },
    {
      "cell_type": "code",
      "execution_count": null,
      "metadata": {
        "colab": {
          "base_uri": "https://localhost:8080/"
        },
        "id": "HZ9E-epHC2RB",
        "outputId": "6978be4e-e455-4cfc-b834-570bb9f5f5e9"
      },
      "outputs": [
        {
          "name": "stdout",
          "output_type": "stream",
          "text": [
            "[5 7 9]\n",
            "[ 4 10 18]\n",
            "[0.25 0.4  0.5 ]\n"
          ]
        }
      ],
      "source": [
        "a = np.array([1, 2, 3])\n",
        "b = np.array([4, 5, 6])\n",
        "print(a+b)\n",
        "print(a*b)\n",
        "print(a/b)"
      ]
    },
    {
      "cell_type": "markdown",
      "metadata": {
        "id": "j0BlOdR4EH-N"
      },
      "source": [
        "7. Create a random NumPy array of size (4, 4). Compute:\n",
        "• Mean of each column.\n",
        "• Maximum value of the entire array.\n",
        "• Sum of all elements."
      ]
    },
    {
      "cell_type": "code",
      "execution_count": null,
      "metadata": {
        "colab": {
          "base_uri": "https://localhost:8080/"
        },
        "id": "QJMzm6LDEQ0k",
        "outputId": "191e3570-f62e-4143-d0f0-77b034411413"
      },
      "outputs": [
        {
          "name": "stdout",
          "output_type": "stream",
          "text": [
            "[[4 5 4 3]\n",
            " [1 1 4 2]\n",
            " [4 5 5 4]\n",
            " [5 1 1 5]]\n",
            "[3.5 3.  3.5 3.5]\n",
            "5\n",
            "54\n"
          ]
        }
      ],
      "source": [
        "x = np.array((4,4))\n",
        "n = np.random.randint(1,6,x)\n",
        "print(n)\n",
        "print(np.mean(n,axis=0))\n",
        "print(np.max(n))\n",
        "print(np.sum(n))"
      ]
    },
    {
      "cell_type": "markdown",
      "metadata": {
        "id": "ZseQjSKnHuwR"
      },
      "source": [
        "8. Given the array arr = np.array([1, 2, 3, 4]), add 10 to each element and multiply\n",
        "the result by 2."
      ]
    },
    {
      "cell_type": "code",
      "execution_count": null,
      "metadata": {
        "colab": {
          "base_uri": "https://localhost:8080/"
        },
        "id": "HYCq1M0dHv5r",
        "outputId": "399a7b71-e91e-4613-9602-389961979f2d"
      },
      "outputs": [
        {
          "name": "stdout",
          "output_type": "stream",
          "text": [
            "[22 24 26 28]\n"
          ]
        }
      ],
      "source": [
        "arr = np.array([1, 2, 3, 4])\n",
        "arr+=10\n",
        "arr*=2\n",
        "print(arr)"
      ]
    },
    {
      "cell_type": "markdown",
      "metadata": {
        "id": "WjwGqH2yIN78"
      },
      "source": [
        "9. Perform advanced slicing and indexing on a 3D array.\n",
        "Create a 3D NumPy array arr of shape (3, 4, 5) with random integers ranging from\n",
        "1 to 100. Perform the following:\n",
        "• Extract the second \"layer\" (i.e., the second 2D array) in the first dimension.\n",
        "• Extract the first two rows and the last three columns from each \"layer.\"\n",
        "• Replace all elements divisible by 3 with -1."
      ]
    },
    {
      "cell_type": "code",
      "execution_count": 3,
      "metadata": {
        "colab": {
          "base_uri": "https://localhost:8080/"
        },
        "id": "EzCQ_F3yIUB8",
        "outputId": "682bae29-99cf-4db4-c716-5dc0138ececd"
      },
      "outputs": [
        {
          "output_type": "stream",
          "name": "stdout",
          "text": [
            "[[[49 93 33 93 96]\n",
            "  [20 91 31 96 18]\n",
            "  [79 64  7 75 28]\n",
            "  [32 48 19 86  3]]\n",
            "\n",
            " [[ 4 12 17 14 80]\n",
            "  [60 27 29 85 65]\n",
            "  [37 23 39 46 38]\n",
            "  [42 49 63 31 25]]\n",
            "\n",
            " [[37 84 23 23 47]\n",
            "  [82 27 72  6 87]\n",
            "  [74 38  4 83 30]\n",
            "  [79 98 50 79 15]]]\n",
            "........................\n",
            "[[ 4 12 17 14 80]\n",
            " [60 27 29 85 65]\n",
            " [37 23 39 46 38]\n",
            " [42 49 63 31 25]]\n",
            "........................\n",
            "[[[33 93 96]\n",
            "  [31 96 18]]\n",
            "\n",
            " [[17 14 80]\n",
            "  [29 85 65]]\n",
            "\n",
            " [[23 23 47]\n",
            "  [72  6 87]]]\n",
            "........................\n",
            "[[[49 -1 -1 -1 -1]\n",
            "  [20 91 31 -1 -1]\n",
            "  [79 64  7 -1 28]\n",
            "  [32 -1 19 86 -1]]\n",
            "\n",
            " [[ 4 -1 17 14 80]\n",
            "  [-1 -1 29 85 65]\n",
            "  [37 23 -1 46 38]\n",
            "  [-1 49 -1 31 25]]\n",
            "\n",
            " [[37 -1 23 23 47]\n",
            "  [82 -1 -1 -1 -1]\n",
            "  [74 38  4 83 -1]\n",
            "  [79 98 50 79 -1]]]\n"
          ]
        }
      ],
      "source": [
        "e = np.random.randint(1,101,(3,4,5))\n",
        "print(e)\n",
        "print('........................')\n",
        "print(e[1])\n",
        "print('........................')\n",
        "print(e[:,0:2,-3:])\n",
        "print('........................')\n",
        "e[e%3==0]=-1\n",
        "print(e)"
      ]
    },
    {
      "cell_type": "markdown",
      "source": [
        "10. Work with broadcasting and advanced operations in NumPy.\n",
        "Create a NumPy array arr of shape (3, 3) with random integers between  \n",
        "1 and 20. Perform the following:\n",
        "• Subtract the mean of each row from its respective elements (row-wise\n",
        "normalization).\n",
        "• Create a new array by squaring all the elements in arr.\n",
        "• Find the indices of the top 3 maximum values in the entire array."
      ],
      "metadata": {
        "id": "Zy4IFSgtk4T8"
      }
    },
    {
      "cell_type": "code",
      "source": [
        "n = np.random.randint(1,21,(3,3))\n",
        "print(n)\n",
        "print(\"---------- \")\n",
        "for i in range(3):\n",
        "  n[i] = n[i]-np.mean(n[i])\n",
        "print(\"Normalisation :\\n\",n)\n",
        "print(\"---------- \")\n",
        "print(\"Squared array :\\n\",np.square(n))\n",
        "print(\"---------- \")\n",
        "f = n.flatten()\n",
        "t = np.argsort(f)[-3:]\n",
        "row,col = np.unravel_index(t,n.shape)\n",
        "print(\"Indices of top 3 maximum values :\\n\",list(zip(row,col)))"
      ],
      "metadata": {
        "colab": {
          "base_uri": "https://localhost:8080/"
        },
        "id": "2HGh6lDgk7_X",
        "outputId": "d6e3dae7-4b7f-4ae2-98f6-a1ca49832ee2"
      },
      "execution_count": 10,
      "outputs": [
        {
          "output_type": "stream",
          "name": "stdout",
          "text": [
            "[[ 2  3  6]\n",
            " [12  2 15]\n",
            " [11 18 18]]\n",
            "---------- \n",
            "Normalisation :\n",
            " [[-1  0  2]\n",
            " [ 2 -7  5]\n",
            " [-4  2  2]]\n",
            "---------- \n",
            "Squared array :\n",
            " [[ 1  0  4]\n",
            " [ 4 49 25]\n",
            " [16  4  4]]\n",
            "---------- \n",
            "Indices of top 3 maximum values :\n",
            " [(2, 1), (2, 2), (1, 2)]\n"
          ]
        }
      ]
    }
  ],
  "metadata": {
    "colab": {
      "provenance": [],
      "authorship_tag": "ABX9TyOLKM9J3X8Vv6wbZ0fk175j"
    },
    "kernelspec": {
      "display_name": "Python 3",
      "name": "python3"
    },
    "language_info": {
      "name": "python"
    }
  },
  "nbformat": 4,
  "nbformat_minor": 0
}