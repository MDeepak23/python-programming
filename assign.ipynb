{
  "nbformat": 4,
  "nbformat_minor": 0,
  "metadata": {
    "colab": {
      "provenance": [],
      "authorship_tag": "ABX9TyPefQuTjvs1ipfq1Y661+dh"
    },
    "kernelspec": {
      "name": "python3",
      "display_name": "Python 3"
    },
    "language_info": {
      "name": "python"
    }
  },
  "cells": [
    {
      "cell_type": "code",
      "execution_count": 1,
      "metadata": {
        "colab": {
          "base_uri": "https://localhost:8080/"
        },
        "id": "j1DyFopO6UXd",
        "outputId": "59336e94-de83-4a59-af79-2b1ce4dd2249"
      },
      "outputs": [
        {
          "output_type": "stream",
          "name": "stdout",
          "text": [
            "Requirement already satisfied: numpy in /usr/local/lib/python3.10/dist-packages (1.26.4)\n"
          ]
        }
      ],
      "source": [
        "pip install numpy"
      ]
    },
    {
      "cell_type": "code",
      "source": [
        "import numpy as np"
      ],
      "metadata": {
        "id": "kfc81EOg6p61"
      },
      "execution_count": 2,
      "outputs": []
    },
    {
      "cell_type": "markdown",
      "source": [
        "1. Perform arithmetic operations on NumPy arrays."
      ],
      "metadata": {
        "id": "EwsrA2Oy674p"
      }
    },
    {
      "cell_type": "code",
      "source": [
        "a = np.array([1,2,3])\n",
        "b = np.array([10,20,30])\n",
        "print(a+b)\n",
        "print(a-b)\n",
        "print(a*b)\n",
        "print(a/b)"
      ],
      "metadata": {
        "colab": {
          "base_uri": "https://localhost:8080/"
        },
        "id": "l398nDIf689d",
        "outputId": "86007263-2015-41c7-e22c-6752231103ee"
      },
      "execution_count": 4,
      "outputs": [
        {
          "output_type": "stream",
          "name": "stdout",
          "text": [
            "[11 22 33]\n",
            "[ -9 -18 -27]\n",
            "[10 40 90]\n",
            "[0.1 0.1 0.1]\n"
          ]
        }
      ]
    },
    {
      "cell_type": "markdown",
      "source": [
        "2. Write a script to compute the mean and standard deviation of a NumPy array."
      ],
      "metadata": {
        "id": "Tcx_6rL97z0r"
      }
    },
    {
      "cell_type": "code",
      "source": [
        "m = np.mean(a)\n",
        "s = np.std(a)\n",
        "print(m)\n",
        "print(s)"
      ],
      "metadata": {
        "colab": {
          "base_uri": "https://localhost:8080/"
        },
        "id": "RgfMyWWo71J0",
        "outputId": "1245591f-7f28-4932-9652-30727c87cd3e"
      },
      "execution_count": 5,
      "outputs": [
        {
          "output_type": "stream",
          "name": "stdout",
          "text": [
            "2.0\n",
            "0.816496580927726\n"
          ]
        }
      ]
    },
    {
      "cell_type": "markdown",
      "source": [
        "3. Create a NumPy array of integers from 10 to 50 with a step size of 5."
      ],
      "metadata": {
        "id": "rHmeO5Vt8osK"
      }
    },
    {
      "cell_type": "code",
      "source": [
        "s = np.arange(10,51,5)\n",
        "print(s)"
      ],
      "metadata": {
        "colab": {
          "base_uri": "https://localhost:8080/"
        },
        "id": "BwmN5yhW818z",
        "outputId": "683b72cb-7fc5-4fde-9860-a20abfccb99d"
      },
      "execution_count": 9,
      "outputs": [
        {
          "output_type": "stream",
          "name": "stdout",
          "text": [
            "[10 15 20 25 30 35 40 45 50]\n"
          ]
        }
      ]
    },
    {
      "cell_type": "markdown",
      "source": [
        "4. Reshape the array into a 2x4 matrix."
      ],
      "metadata": {
        "id": "QS7OidVh9yhz"
      }
    },
    {
      "cell_type": "code",
      "source": [
        "r = np.array([1,2,3,4,5,6,7,8])\n",
        "r = r.reshape(2,4)\n",
        "print(r)"
      ],
      "metadata": {
        "colab": {
          "base_uri": "https://localhost:8080/"
        },
        "id": "wqn0F12d90YV",
        "outputId": "c16ad836-a54f-4040-cbed-6e628b14bc58"
      },
      "execution_count": 14,
      "outputs": [
        {
          "output_type": "stream",
          "name": "stdout",
          "text": [
            "[[1 2 3 4]\n",
            " [5 6 7 8]]\n"
          ]
        }
      ]
    },
    {
      "cell_type": "markdown",
      "source": [
        "5. Given the array arr = np.array([[1, 2, 3], [4, 5, 6], [7, 8, 9]]):\n",
        "• Extract the sub-matrix containing the last two rows and first two columns.\n",
        "• Replace all elements greater than 4 with 0."
      ],
      "metadata": {
        "id": "XOSGciXM-oBR"
      }
    },
    {
      "cell_type": "code",
      "source": [
        "arr = np.array([[1, 2, 3], [4, 5, 6], [7, 8, 9]])\n",
        "print(arr[1: ,0:2])\n",
        "arr[arr>4]=0\n",
        "print(arr)"
      ],
      "metadata": {
        "colab": {
          "base_uri": "https://localhost:8080/"
        },
        "id": "s_BL7tSC-pRe",
        "outputId": "9203bb35-6b77-40ed-b033-29c5e7fe1096"
      },
      "execution_count": 20,
      "outputs": [
        {
          "output_type": "stream",
          "name": "stdout",
          "text": [
            "[[4 5]\n",
            " [7 8]]\n",
            "[[1 2 3]\n",
            " [4 0 0]\n",
            " [0 0 0]]\n"
          ]
        }
      ]
    },
    {
      "cell_type": "markdown",
      "source": [
        "6. Create two 1D arrays:\n",
        "• a = np.array([1, 2, 3])\n",
        "• b = np.array([4, 5, 6])\n",
        "• Perform element-wise addition, multiplication, and division."
      ],
      "metadata": {
        "id": "5d5Kqa3VC1HD"
      }
    },
    {
      "cell_type": "code",
      "source": [
        "a = np.array([1, 2, 3])\n",
        "b = np.array([4, 5, 6])\n",
        "print(a+b)\n",
        "print(a*b)\n",
        "print(a/b)"
      ],
      "metadata": {
        "colab": {
          "base_uri": "https://localhost:8080/"
        },
        "id": "HZ9E-epHC2RB",
        "outputId": "6978be4e-e455-4cfc-b834-570bb9f5f5e9"
      },
      "execution_count": 21,
      "outputs": [
        {
          "output_type": "stream",
          "name": "stdout",
          "text": [
            "[5 7 9]\n",
            "[ 4 10 18]\n",
            "[0.25 0.4  0.5 ]\n"
          ]
        }
      ]
    },
    {
      "cell_type": "markdown",
      "source": [
        "7. Create a random NumPy array of size (4, 4). Compute:\n",
        "• Mean of each column.\n",
        "• Maximum value of the entire array.\n",
        "• Sum of all elements."
      ],
      "metadata": {
        "id": "j0BlOdR4EH-N"
      }
    },
    {
      "cell_type": "code",
      "source": [
        "x = np.array((4,4))\n",
        "n = np.random.randint(1,6,x)\n",
        "print(n)\n",
        "print(np.mean(n,axis=0))\n",
        "print(np.max(n))\n",
        "print(np.sum(n))"
      ],
      "metadata": {
        "colab": {
          "base_uri": "https://localhost:8080/"
        },
        "id": "QJMzm6LDEQ0k",
        "outputId": "191e3570-f62e-4143-d0f0-77b034411413"
      },
      "execution_count": 36,
      "outputs": [
        {
          "output_type": "stream",
          "name": "stdout",
          "text": [
            "[[4 5 4 3]\n",
            " [1 1 4 2]\n",
            " [4 5 5 4]\n",
            " [5 1 1 5]]\n",
            "[3.5 3.  3.5 3.5]\n",
            "5\n",
            "54\n"
          ]
        }
      ]
    },
    {
      "cell_type": "markdown",
      "source": [
        "8. Given the array arr = np.array([1, 2, 3, 4]), add 10 to each element and multiply\n",
        "the result by 2."
      ],
      "metadata": {
        "id": "ZseQjSKnHuwR"
      }
    },
    {
      "cell_type": "code",
      "source": [
        "arr = np.array([1, 2, 3, 4])\n",
        "arr+=10\n",
        "arr*=2\n",
        "print(arr)"
      ],
      "metadata": {
        "colab": {
          "base_uri": "https://localhost:8080/"
        },
        "id": "HYCq1M0dHv5r",
        "outputId": "399a7b71-e91e-4613-9602-389961979f2d"
      },
      "execution_count": 37,
      "outputs": [
        {
          "output_type": "stream",
          "name": "stdout",
          "text": [
            "[22 24 26 28]\n"
          ]
        }
      ]
    },
    {
      "cell_type": "markdown",
      "source": [
        "9. Perform advanced slicing and indexing on a 3D array.\n",
        "Create a 3D NumPy array arr of shape (3, 4, 5) with random integers ranging from\n",
        "1 to 100. Perform the following:\n",
        "• Extract the second \"layer\" (i.e., the second 2D array) in the first dimension.\n",
        "• Extract the first two rows and the last three columns from each \"layer.\"\n",
        "• Replace all elements divisible by 3 with -1."
      ],
      "metadata": {
        "id": "WjwGqH2yIN78"
      }
    },
    {
      "cell_type": "code",
      "source": [
        "e = np.random.randint(1,101,(3,4,5))\n",
        "print(e)\n",
        "print('........................')\n",
        "print(e[1])\n",
        "print('........................')\n",
        "print(e[:,:2,2:])\n",
        "print('........................')\n",
        "e[e%3==0]=-1\n",
        "print(e)"
      ],
      "metadata": {
        "colab": {
          "base_uri": "https://localhost:8080/"
        },
        "id": "EzCQ_F3yIUB8",
        "outputId": "bc0faaa5-c3b6-41db-d349-318efc6887f8"
      },
      "execution_count": 51,
      "outputs": [
        {
          "output_type": "stream",
          "name": "stdout",
          "text": [
            "[[[ 69   1  15  98  70]\n",
            "  [ 45  39  56  93  53]\n",
            "  [ 36  88  98  77  89]\n",
            "  [ 88  55  39  25  97]]\n",
            "\n",
            " [[ 11 100  65  72  79]\n",
            "  [  7  81  18  29  21]\n",
            "  [ 24  70  47  94  30]\n",
            "  [ 50  28  45  79  76]]\n",
            "\n",
            " [[ 34  90  88  93  41]\n",
            "  [ 45  10  65  85  68]\n",
            "  [  2  81  40  27 100]\n",
            "  [ 59  65  35  86  20]]]\n",
            "........................\n",
            "[[ 11 100  65  72  79]\n",
            " [  7  81  18  29  21]\n",
            " [ 24  70  47  94  30]\n",
            " [ 50  28  45  79  76]]\n",
            "........................\n",
            "[[[15 98 70]\n",
            "  [56 93 53]]\n",
            "\n",
            " [[65 72 79]\n",
            "  [18 29 21]]\n",
            "\n",
            " [[88 93 41]\n",
            "  [65 85 68]]]\n",
            "........................\n",
            "[[[ -1   1  -1  98  70]\n",
            "  [ -1  -1  56  -1  53]\n",
            "  [ -1  88  98  77  89]\n",
            "  [ 88  55  -1  25  97]]\n",
            "\n",
            " [[ 11 100  65  -1  79]\n",
            "  [  7  -1  -1  29  -1]\n",
            "  [ -1  70  47  94  -1]\n",
            "  [ 50  28  -1  79  76]]\n",
            "\n",
            " [[ 34  -1  88  -1  41]\n",
            "  [ -1  10  65  85  68]\n",
            "  [  2  -1  40  -1 100]\n",
            "  [ 59  65  35  86  20]]]\n"
          ]
        }
      ]
    },
    {
      "cell_type": "markdown",
      "source": [
        "10. Work with broadcasting and advanced operations in NumPy.\n",
        "Create a NumPy array arr of shape (3, 3) with random integers between  \n",
        "1 and 20. Perform the following:\n",
        "• Subtract the mean of each row from its respective elements (row-wise\n",
        "normalization).\n",
        "• Create a new array by squaring all the elements in arr.\n",
        "• Find the indices of the top 3 maximum values in the entire array."
      ],
      "metadata": {
        "id": "GwMwhzFuOfzS"
      }
    },
    {
      "cell_type": "code",
      "source": [
        "y = np.random.randint(1,21,(3,3))\n",
        "print(y)\n",
        "\n",
        "q = y-np.mean(y,axis=1)\n",
        "print(q)\n",
        "\n",
        "print(np.square(y))\n",
        "\n",
        "flat =\n"
      ],
      "metadata": {
        "colab": {
          "base_uri": "https://localhost:8080/"
        },
        "id": "BNAiD2I-OiNg",
        "outputId": "6640912f-5ba5-40c9-f7dc-98e269fd1c3f"
      },
      "execution_count": 59,
      "outputs": [
        {
          "output_type": "stream",
          "name": "stdout",
          "text": [
            "[[11 14  9]\n",
            " [ 7 10 13]\n",
            " [15  7  4]]\n",
            "[[-0.33333333  4.          0.33333333]\n",
            " [-4.33333333  0.          4.33333333]\n",
            " [ 3.66666667 -3.         -4.66666667]]\n",
            "[[121 196  81]\n",
            " [ 49 100 169]\n",
            " [225  49  16]]\n"
          ]
        }
      ]
    }
  ]
}